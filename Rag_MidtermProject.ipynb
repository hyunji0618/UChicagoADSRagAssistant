{
 "cells": [
  {
   "cell_type": "code",
   "execution_count": 6,
   "id": "eabd12ae-7362-47b6-90a7-eb6571f94bbb",
   "metadata": {},
   "outputs": [],
   "source": [
    "from datasets import load_dataset\n",
    "from langchain.text_splitter import RecursiveCharacterTextSplitter\n",
    "from langchain_chroma import Chroma\n",
    "from langchain_community.embeddings import HuggingFaceEmbeddings\n",
    "from sklearn.decomposition import PCA\n",
    "#import matplotlib.pyplot as plt\n",
    "import pandas as pd\n",
    "from langchain.document_loaders import PyPDFLoader\n",
    "from langchain.text_splitter import RecursiveCharacterTextSplitter\n",
    "import os\n",
    "import pyarrow\n",
    "from langchain_community.embeddings import HuggingFaceEmbeddings\n",
    "from langchain.schema import Document\n",
    "import pypdf "
   ]
  },
  {
   "cell_type": "code",
   "execution_count": 2,
   "id": "4a7be989-591b-45c6-9120-339ffa4f2f14",
   "metadata": {},
   "outputs": [
    {
     "data": {
      "text/plain": [
       "'/Users/hyunjikim/Desktop/UChicago/Gen AI/UChicagoADSRagAssistant'"
      ]
     },
     "execution_count": 2,
     "metadata": {},
     "output_type": "execute_result"
    }
   ],
   "source": [
    "os.getcwd()"
   ]
  },
  {
   "cell_type": "markdown",
   "id": "fc8bdc98-5bef-45b7-ab79-a4c5e4e1abb0",
   "metadata": {},
   "source": [
    "## Loading articles"
   ]
  },
  {
   "cell_type": "code",
   "execution_count": 7,
   "id": "7ea58d9d-66e3-4799-b5db-98a27805c524",
   "metadata": {},
   "outputs": [],
   "source": [
    "pdf_paths = [\n",
    "    \"4_ms_ads_all_pages.pdf\"\n",
    "]\n",
    "\n",
    "# Load and split documents\n",
    "loaders = [PyPDFLoader(path) for path in pdf_paths]\n",
    "docs = []\n",
    "for loader in loaders:\n",
    "    docs.extend(loader.load())"
   ]
  },
  {
   "cell_type": "markdown",
   "id": "8d953c48-6b97-4fdc-beb2-5c70e204e0ce",
   "metadata": {},
   "source": [
    "## Chunking Data"
   ]
  },
  {
   "cell_type": "code",
   "execution_count": null,
   "id": "649e60c7-46b2-4acf-a8ac-e7f1d8099980",
   "metadata": {},
   "outputs": [],
   "source": [
    "splitter = RecursiveCharacterTextSplitter(\n",
    "    chunk_size=1000,     # Max characters per chunk\n",
    "    chunk_overlap=100    # Overlap between chunks to preserve context\n",
    ")"
   ]
  },
  {
   "cell_type": "code",
   "execution_count": 9,
   "id": "101f4a70-291c-457e-abc3-1776026a8361",
   "metadata": {},
   "outputs": [
    {
     "name": "stdout",
     "output_type": "stream",
     "text": [
      "Total chunks: 274\n"
     ]
    }
   ],
   "source": [
    "chunks = splitter.split_documents(docs)\n",
    "print(f\"Total chunks: {len(chunks)}\")"
   ]
  },
  {
   "cell_type": "code",
   "execution_count": 10,
   "id": "b12da1b7-baf1-44cc-a47f-f71e93490f2c",
   "metadata": {},
   "outputs": [
    {
     "data": {
      "text/plain": [
       "Document(metadata={'producer': 'PDFCreator Online (www.pdfforge.org/online)', 'creator': 'PDFCreator Online (www.pdfforge.org/online)', 'creationdate': '2025-05-18T21:43:39+00:00', 'title': 'Merged with PDFCreator Online', 'moddate': '2025-05-18T21:43:40+00:00', 'source': '4_ms_ads_all_pages.pdf', 'total_pages': 41, 'page': 0, 'page_label': '1'}, page_content='healthcare, and business.\\nThe career outcomes for our MS in Applied Data Science graduates are exceptional. Explore the diverse career paths our alumni have pursued, from top employers to leading\\nindustries actively seeking our graduates.\\nPage:https://datascience.uchicago.edu/education/mprograms/ms-in-applied-data-science/online-')"
      ]
     },
     "execution_count": 10,
     "metadata": {},
     "output_type": "execute_result"
    }
   ],
   "source": [
    "chunks[1]"
   ]
  },
  {
   "cell_type": "markdown",
   "id": "ba602ce8-5b9a-4172-9370-c7aabc92213a",
   "metadata": {},
   "source": [
    "## Storing in Vector Database"
   ]
  },
  {
   "cell_type": "code",
   "execution_count": 19,
   "id": "749c8aac-df2a-43e5-928d-c205c8bdec44",
   "metadata": {},
   "outputs": [],
   "source": [
    "embedding_model = HuggingFaceEmbeddings(model_name=\"all-MiniLM-L6-v2\")"
   ]
  },
  {
   "cell_type": "code",
   "execution_count": 12,
   "id": "be3c03cb-298c-4f88-ac4d-d2bad490df57",
   "metadata": {},
   "outputs": [],
   "source": [
    "db = Chroma.from_documents(chunks, embedding_model, persist_directory=\"./chroma_db\")"
   ]
  },
  {
   "cell_type": "markdown",
   "id": "d2d4024e-b7bf-41a0-9080-ca73da4c4f88",
   "metadata": {},
   "source": [
    "## Example pass through of 1 query"
   ]
  },
  {
   "cell_type": "code",
   "execution_count": 14,
   "id": "ed380db7-00f6-4fa3-a662-3392e68e31e5",
   "metadata": {},
   "outputs": [
    {
     "name": "stdout",
     "output_type": "stream",
     "text": [
      "=== RAG Augmented Prompt ===\n",
      "You are a helpful assistant. Use the following context to answer the question.\n",
      "\n",
      "[CONTEXT]\n",
      "Chicago the expectations for technical competence, communication and influence skills, and exposure to advanced Data Science evolving technologies is high. The skills learned in\n",
      "the program translate directly into practice due to the program’s balance between theory and rigorous application experience developed in coursework and the Capstone project work\n",
      "delivered across the curriculum.\n",
      "Is the Master's in Applied Data Science Online program equally academically rigorous as the In-Person program?Yes. TheOnline Programcurriculum is overseen by the same faculty\n",
      "curriculum committee as the In-Person program. Both programs are jointly reviewed and are held to the same high standards. Additionally, both programs are granted by the\n",
      "University of ChicagoPhysical Sciences Division.\n",
      "Yes. TheOnline Programcurriculum is overseen by the same faculty curriculum committee as the In-Person program. Both programs are jointly reviewed and are held to the same\n",
      "Meet your Admissions Counselor\n",
      "Patrick VoneshSenior Assistant Director of Enrollment Management\n",
      "Patrick Vonesh supports prospective students throughout the admissions process for the Online Master of Science in Applied Data Science program.\n",
      "Learn more about Patrick\n",
      "Start My AppSchedule an Appointment\n",
      "Jose AlvaradoAssociate Director of Enrollment Management\n",
      "Jose Alvarado supports prospective students throughout the admissions process for the In-Person Master of Science in Applied Data Science program.\n",
      "Learn more about Jose\n",
      "Get in Touch\n",
      "Before we get back to you, please check to see if your question has already been answered on ourFAQs page.\n",
      "Visit ourFAQpage for additional information.\n",
      "Start Your Application\n",
      "TheIn-Personand theOnlineprogram admit full- and part-time students for entrance in autumn quarter.\n",
      "Page:https://datascience.uchicago.edu/education/mprograms/ms-in-applied-data-science/faculty-instructors-staff/(https://datascience.uchicago.edu/education/mprograms/ms-in-applied-data-science/faculty-instructors-staff/)\n",
      "Not sure what you’re looking for? Head for thehome page.\n",
      "Know what you want? Search our site by entering keywords below…\n",
      "Page:https://datascience.uchicago.edu/education/m\n",
      "\n",
      "[QUESTION]\n",
      "Who is the director of the program\n",
      "\n",
      "Answer:\n"
     ]
    }
   ],
   "source": [
    "# Define a new query\n",
    "query = \"Who is the director of the program\"\n",
    "\n",
    "\n",
    "retriever = db.as_retriever(search_kwargs={\"k\": 3})\n",
    "retrieved_docs = retriever.get_relevant_documents(query)\n",
    "context = \"\\n\".join([doc.page_content for doc in retrieved_docs])\n",
    "rag_prompt = f\"\"\"You are a helpful assistant. Use the following context to answer the question.\n",
    "\n",
    "[CONTEXT]\n",
    "{context}\n",
    "\n",
    "[QUESTION]\n",
    "{query}\n",
    "\n",
    "Answer:\"\"\"\n",
    "\n",
    "print(\"=== RAG Augmented Prompt ===\")\n",
    "print(rag_prompt)"
   ]
  },
  {
   "cell_type": "markdown",
   "id": "bc1f49b3-c621-480e-ba96-76d02eb16aed",
   "metadata": {},
   "source": [
    "## Loading LLM Model"
   ]
  },
  {
   "cell_type": "code",
   "execution_count": 16,
   "id": "eaa9815a-c7f6-44fb-8cec-a4350ad955f7",
   "metadata": {},
   "outputs": [
    {
     "name": "stderr",
     "output_type": "stream",
     "text": [
      "Device set to use mps:0\n"
     ]
    }
   ],
   "source": [
    "from transformers import AutoTokenizer, AutoModelForSeq2SeqLM, pipeline\n",
    "from langchain.llms import HuggingFacePipeline\n",
    "\n",
    "model_name = \"google/flan-t5-base\"  \n",
    "\n",
    "# Load tokenizer and model\n",
    "tokenizer = AutoTokenizer.from_pretrained(model_name)\n",
    "model = AutoModelForSeq2SeqLM.from_pretrained(model_name)\n",
    "\n",
    "# Create inference pipeline\n",
    "pipe = pipeline(\"text2text-generation\", model=model, tokenizer=tokenizer, max_new_tokens=500)\n",
    "llm = HuggingFacePipeline(pipeline=pipe)"
   ]
  },
  {
   "cell_type": "code",
   "execution_count": 18,
   "id": "6f135aa3-203d-40e6-9922-adc0229a48d3",
   "metadata": {},
   "outputs": [
    {
     "name": "stdout",
     "output_type": "stream",
     "text": [
      "\n",
      "=== Generated Answer ===\n",
      "Patrick Vonesh\n"
     ]
    }
   ],
   "source": [
    "# Run generation\n",
    "response = llm(rag_prompt)\n",
    "print(\"\\n=== Generated Answer ===\")\n",
    "print(response)"
   ]
  },
  {
   "cell_type": "markdown",
   "id": "35cf0c7c-a7b8-4bc7-8b16-2d3cf6e13643",
   "metadata": {},
   "source": [
    "## Retriever 2"
   ]
  },
  {
   "cell_type": "markdown",
   "id": "46842f92-5504-4f13-b49d-488d045c95c2",
   "metadata": {},
   "source": [
    "### Question Answer Dataset Generated Through 'YourBench' Mistral 'mistralai/Mixtral-8x7B-Instruct-v0.1'\n",
    "\n",
    "https://yourbench.github.io/"
   ]
  },
  {
   "cell_type": "code",
   "execution_count": 21,
   "id": "b67cf77c-615b-4099-a29c-655a9f263173",
   "metadata": {},
   "outputs": [],
   "source": [
    "df = pd.read_parquet(\"train-00000-of-00001.parquet\")"
   ]
  },
  {
   "cell_type": "code",
   "execution_count": 22,
   "id": "8a067698-2e9e-4a31-8fb3-1b91e2f2a476",
   "metadata": {},
   "outputs": [
    {
     "data": {
      "text/html": [
       "<div>\n",
       "<style scoped>\n",
       "    .dataframe tbody tr th:only-of-type {\n",
       "        vertical-align: middle;\n",
       "    }\n",
       "\n",
       "    .dataframe tbody tr th {\n",
       "        vertical-align: top;\n",
       "    }\n",
       "\n",
       "    .dataframe thead th {\n",
       "        text-align: right;\n",
       "    }\n",
       "</style>\n",
       "<table border=\"1\" class=\"dataframe\">\n",
       "  <thead>\n",
       "    <tr style=\"text-align: right;\">\n",
       "      <th></th>\n",
       "      <th>chunk_id</th>\n",
       "      <th>document_id</th>\n",
       "      <th>additional_instructions</th>\n",
       "      <th>question</th>\n",
       "      <th>self_answer</th>\n",
       "      <th>choices</th>\n",
       "      <th>estimated_difficulty</th>\n",
       "      <th>self_assessed_question_type</th>\n",
       "      <th>generating_model</th>\n",
       "      <th>thought_process</th>\n",
       "      <th>raw_response</th>\n",
       "      <th>citations</th>\n",
       "    </tr>\n",
       "  </thead>\n",
       "  <tbody>\n",
       "    <tr>\n",
       "      <th>0</th>\n",
       "      <td>768bc379-8ce4-466d-bf0d-398c888911dd_0</td>\n",
       "      <td>768bc379-8ce4-466d-bf0d-398c888911dd</td>\n",
       "      <td>undergraduate</td>\n",
       "      <td>What industries have shown significant interes...</td>\n",
       "      <td>Industries such as technology, finance, health...</td>\n",
       "      <td>[]</td>\n",
       "      <td>3</td>\n",
       "      <td>factual</td>\n",
       "      <td>mistralai/Mixtral-8x7B-Instruct-v0.1</td>\n",
       "      <td>Identify the industries where MS-ADS graduates...</td>\n",
       "      <td>&lt;document_analysis&gt;\\n\\nThe text chunk is a br...</td>\n",
       "      <td>[employment across industries such as technolo...</td>\n",
       "    </tr>\n",
       "    <tr>\n",
       "      <th>1</th>\n",
       "      <td>768bc379-8ce4-466d-bf0d-398c888911dd_0</td>\n",
       "      <td>768bc379-8ce4-466d-bf0d-398c888911dd</td>\n",
       "      <td>undergraduate</td>\n",
       "      <td>What percentage growth in employment is expect...</td>\n",
       "      <td>The employment for data scientists is projecte...</td>\n",
       "      <td>[]</td>\n",
       "      <td>3</td>\n",
       "      <td>factual</td>\n",
       "      <td>mistralai/Mixtral-8x7B-Instruct-v0.1</td>\n",
       "      <td>Understand the projected growth rate for data ...</td>\n",
       "      <td>&lt;document_analysis&gt;\\n\\nThe text chunk is a br...</td>\n",
       "      <td>[employment for data scientists is projected t...</td>\n",
       "    </tr>\n",
       "    <tr>\n",
       "      <th>2</th>\n",
       "      <td>768bc379-8ce4-466d-bf0d-398c888911dd_0</td>\n",
       "      <td>768bc379-8ce4-466d-bf0d-398c888911dd</td>\n",
       "      <td>undergraduate</td>\n",
       "      <td>What is the primary reason for the surge in de...</td>\n",
       "      <td>The increasing reliance on data science across...</td>\n",
       "      <td>[]</td>\n",
       "      <td>4</td>\n",
       "      <td>conceptual</td>\n",
       "      <td>mistralai/Mixtral-8x7B-Instruct-v0.1</td>\n",
       "      <td>Recognize the main driver for the growing dema...</td>\n",
       "      <td>&lt;document_analysis&gt;\\n\\nThe text chunk is a br...</td>\n",
       "      <td>[This surge is driven by the increasing relian...</td>\n",
       "    </tr>\n",
       "    <tr>\n",
       "      <th>3</th>\n",
       "      <td>768bc379-8ce4-466d-bf0d-398c888911dd_1</td>\n",
       "      <td>768bc379-8ce4-466d-bf0d-398c888911dd</td>\n",
       "      <td>undergraduate</td>\n",
       "      <td>What advantages does the flexibility of the on...</td>\n",
       "      <td>The flexibility of the online MS-ADS program a...</td>\n",
       "      <td>[]</td>\n",
       "      <td>5</td>\n",
       "      <td>conceptual</td>\n",
       "      <td>mistralai/Mixtral-8x7B-Instruct-v0.1</td>\n",
       "      <td>Considering the text chunk, I wanted to create...</td>\n",
       "      <td>&lt;document_analysis&gt;\\nThe text chunk provided ...</td>\n",
       "      <td>[You will benefit fromthe same top faculty, br...</td>\n",
       "    </tr>\n",
       "    <tr>\n",
       "      <th>4</th>\n",
       "      <td>768bc379-8ce4-466d-bf0d-398c888911dd_1</td>\n",
       "      <td>768bc379-8ce4-466d-bf0d-398c888911dd</td>\n",
       "      <td>undergraduate</td>\n",
       "      <td>What does the term 'rigor' imply in the contex...</td>\n",
       "      <td>In the context of the online MS-ADS program, '...</td>\n",
       "      <td>[]</td>\n",
       "      <td>6</td>\n",
       "      <td>analytical</td>\n",
       "      <td>mistralai/Mixtral-8x7B-Instruct-v0.1</td>\n",
       "      <td>As the text highlights the rigor of the online...</td>\n",
       "      <td>&lt;document_analysis&gt;\\nThe text chunk provided ...</td>\n",
       "      <td>[You will benefit fromthe same top faculty, br...</td>\n",
       "    </tr>\n",
       "  </tbody>\n",
       "</table>\n",
       "</div>"
      ],
      "text/plain": [
       "                                 chunk_id  \\\n",
       "0  768bc379-8ce4-466d-bf0d-398c888911dd_0   \n",
       "1  768bc379-8ce4-466d-bf0d-398c888911dd_0   \n",
       "2  768bc379-8ce4-466d-bf0d-398c888911dd_0   \n",
       "3  768bc379-8ce4-466d-bf0d-398c888911dd_1   \n",
       "4  768bc379-8ce4-466d-bf0d-398c888911dd_1   \n",
       "\n",
       "                            document_id additional_instructions  \\\n",
       "0  768bc379-8ce4-466d-bf0d-398c888911dd           undergraduate   \n",
       "1  768bc379-8ce4-466d-bf0d-398c888911dd           undergraduate   \n",
       "2  768bc379-8ce4-466d-bf0d-398c888911dd           undergraduate   \n",
       "3  768bc379-8ce4-466d-bf0d-398c888911dd           undergraduate   \n",
       "4  768bc379-8ce4-466d-bf0d-398c888911dd           undergraduate   \n",
       "\n",
       "                                            question  \\\n",
       "0  What industries have shown significant interes...   \n",
       "1  What percentage growth in employment is expect...   \n",
       "2  What is the primary reason for the surge in de...   \n",
       "3  What advantages does the flexibility of the on...   \n",
       "4  What does the term 'rigor' imply in the contex...   \n",
       "\n",
       "                                         self_answer choices  \\\n",
       "0  Industries such as technology, finance, health...      []   \n",
       "1  The employment for data scientists is projecte...      []   \n",
       "2  The increasing reliance on data science across...      []   \n",
       "3  The flexibility of the online MS-ADS program a...      []   \n",
       "4  In the context of the online MS-ADS program, '...      []   \n",
       "\n",
       "   estimated_difficulty self_assessed_question_type  \\\n",
       "0                     3                     factual   \n",
       "1                     3                     factual   \n",
       "2                     4                  conceptual   \n",
       "3                     5                  conceptual   \n",
       "4                     6                  analytical   \n",
       "\n",
       "                       generating_model  \\\n",
       "0  mistralai/Mixtral-8x7B-Instruct-v0.1   \n",
       "1  mistralai/Mixtral-8x7B-Instruct-v0.1   \n",
       "2  mistralai/Mixtral-8x7B-Instruct-v0.1   \n",
       "3  mistralai/Mixtral-8x7B-Instruct-v0.1   \n",
       "4  mistralai/Mixtral-8x7B-Instruct-v0.1   \n",
       "\n",
       "                                     thought_process  \\\n",
       "0  Identify the industries where MS-ADS graduates...   \n",
       "1  Understand the projected growth rate for data ...   \n",
       "2  Recognize the main driver for the growing dema...   \n",
       "3  Considering the text chunk, I wanted to create...   \n",
       "4  As the text highlights the rigor of the online...   \n",
       "\n",
       "                                        raw_response  \\\n",
       "0   <document_analysis>\\n\\nThe text chunk is a br...   \n",
       "1   <document_analysis>\\n\\nThe text chunk is a br...   \n",
       "2   <document_analysis>\\n\\nThe text chunk is a br...   \n",
       "3   <document_analysis>\\nThe text chunk provided ...   \n",
       "4   <document_analysis>\\nThe text chunk provided ...   \n",
       "\n",
       "                                           citations  \n",
       "0  [employment across industries such as technolo...  \n",
       "1  [employment for data scientists is projected t...  \n",
       "2  [This surge is driven by the increasing relian...  \n",
       "3  [You will benefit fromthe same top faculty, br...  \n",
       "4  [You will benefit fromthe same top faculty, br...  "
      ]
     },
     "execution_count": 22,
     "metadata": {},
     "output_type": "execute_result"
    }
   ],
   "source": [
    "df.head()"
   ]
  },
  {
   "cell_type": "code",
   "execution_count": 23,
   "id": "dc328af4-6542-4b59-8a7c-c012f3c55b0f",
   "metadata": {},
   "outputs": [],
   "source": [
    "df['finalchunk']='question: '+df['question']+'\\n' +'answer: '+df['self_answer']"
   ]
  },
  {
   "cell_type": "code",
   "execution_count": 24,
   "id": "2ee30840-749e-46c0-9705-fa78266927ba",
   "metadata": {},
   "outputs": [
    {
     "data": {
      "text/plain": [
       "'question: What percentage growth in employment is expected for data scientists from 2023 to 2033?\\nanswer: The employment for data scientists is projected to grow by 36% from 2023 to 2033.'"
      ]
     },
     "execution_count": 24,
     "metadata": {},
     "output_type": "execute_result"
    }
   ],
   "source": [
    "chunks2=list(df['finalchunk'])\n",
    "chunks2[1]"
   ]
  },
  {
   "cell_type": "code",
   "execution_count": 25,
   "id": "d6c91f5a-e361-49db-9933-dda70bde334d",
   "metadata": {},
   "outputs": [],
   "source": [
    "documents = [Document(page_content=text) for text in chunks2]\n",
    "\n",
    "# Now call Chroma correctly\n",
    "db2 = Chroma.from_documents(documents, embedding_model, persist_directory=\"./chroma_db\")"
   ]
  },
  {
   "cell_type": "markdown",
   "id": "c5554c45-9d8d-4409-bb92-8678f782df65",
   "metadata": {},
   "source": [
    "## Running all queries"
   ]
  },
  {
   "cell_type": "code",
   "execution_count": 26,
   "id": "3fd611f3-669b-4db2-a064-e0306c18603e",
   "metadata": {},
   "outputs": [],
   "source": [
    "queries = [\n",
    "    'What is the deadline to apply?',\n",
    "    'What is time series course about?',\n",
    "    'What happens in capstone?',\n",
    "    'Where are the classes held?',\n",
    "    'which companies do alumni work?',\n",
    "    \"What's the difference between in-person and online program?\",\n",
    "    \"Who is the director of the program?\",\n",
    "    \"Tell me about the France\"]"
   ]
  },
  {
   "cell_type": "code",
   "execution_count": null,
   "id": "0142f41d-4b25-4b97-b611-41086078b00f",
   "metadata": {},
   "outputs": [
    {
     "name": "stdout",
     "output_type": "stream",
     "text": [
      "----------------------------------------------------------------------------------------------------\n",
      "QUERY-----------------------------\n",
      "What is the deadline to apply?\n",
      "ANSWER:---------------------------\n",
      "May 6, 2025 – Third Priority Application Deadline, June 23, 2025 – Final Application Deadline.\n",
      "----------------------------------------------------------------------------------------------------\n",
      "QUERY-----------------------------\n",
      "What is time series course about?\n",
      "ANSWER:---------------------------\n",
      "Time Series Analysis and Forecasting\n",
      "----------------------------------------------------------------------------------------------------\n",
      "QUERY-----------------------------\n",
      "What happens in capstone?\n",
      "ANSWER:---------------------------\n",
      "The capstone project, completed over two quarters, covers research design, implementation, and writing, preparing students for exceptional career outcomes in data science.\n",
      "----------------------------------------------------------------------------------------------------\n",
      "QUERY-----------------------------\n",
      "Where are the classes held?\n",
      "ANSWER:---------------------------\n",
      "online\n",
      "----------------------------------------------------------------------------------------------------\n",
      "QUERY-----------------------------\n",
      "which companies do alumni work?\n",
      "ANSWER:---------------------------\n",
      "IBM GBS and Ernst & Young\n",
      "----------------------------------------------------------------------------------------------------\n",
      "QUERY-----------------------------\n",
      "What's the difference between in-person and online program?\n",
      "ANSWER:---------------------------\n",
      "The immersion weekend, an optional component of the online program, also provides an opportunity for in-person interaction and networking.\n",
      "----------------------------------------------------------------------------------------------------\n",
      "QUERY-----------------------------\n",
      "Who is the director of the program?\n",
      "ANSWER:---------------------------\n",
      "Jose Alvarado\n",
      "----------------------------------------------------------------------------------------------------\n",
      "QUERY-----------------------------\n",
      "Tell me about the France\n",
      "ANSWER:---------------------------\n",
      "France\n"
     ]
    }
   ],
   "source": [
    "for query in queries:\n",
    "    retriever = db.as_retriever(search_kwargs={\"k\": 3})\n",
    "    retrieved_docs = retriever.get_relevant_documents(query)\n",
    "    \n",
    "    # Combine the retrieved context into a single block of text\n",
    "    context = \"\\n\".join([doc.page_content for doc in retrieved_docs])\n",
    "    \n",
    "    retriever2 = db2.as_retriever(search_kwargs={\"k\": 3})\n",
    "    retrieved_docs2 = retriever2.get_relevant_documents(query)\n",
    "    \n",
    "    # Combine the retrieved context into a single block of text\n",
    "    context2 = \"\\n\".join([doc.page_content for doc in retrieved_docs2])\n",
    "    \n",
    "    # Compose the RAG prompt by combining the context and the user's question\n",
    "    rag_prompt = f\"\"\"You are a helpful assistant. Use the following context to answer the question related to the MS Applied Data Science Program. If you don't know the answer, just say to reach out to contact of the program.\n",
    "    \n",
    "    [CONTEXT]\n",
    "    {context}\n",
    "\n",
    "    [CONTEXT2]\n",
    "    {context2}\n",
    "    \n",
    "    [QUESTION]\n",
    "    {query}\n",
    "    \n",
    "    Answer:\"\"\"\n",
    "\n",
    "    response = llm(rag_prompt)\n",
    "    print('-'*100)\n",
    "    print('QUERY-----------------------------')\n",
    "    print(query)\n",
    "    #print('PROMPT----------------------------')\n",
    "    #print(rag_prompt)\n",
    "    print('ANSWER:---------------------------')\n",
    "    print(response)"
   ]
  },
  {
   "cell_type": "code",
   "execution_count": null,
   "id": "53e38954-bd78-4706-8c1e-b70b69315408",
   "metadata": {},
   "outputs": [],
   "source": []
  }
 ],
 "metadata": {
  "kernelspec": {
   "display_name": "Python 3",
   "language": "python",
   "name": "python3"
  },
  "language_info": {
   "codemirror_mode": {
    "name": "ipython",
    "version": 3
   },
   "file_extension": ".py",
   "mimetype": "text/x-python",
   "name": "python",
   "nbconvert_exporter": "python",
   "pygments_lexer": "ipython3",
   "version": "3.13.1"
  }
 },
 "nbformat": 4,
 "nbformat_minor": 5
}
